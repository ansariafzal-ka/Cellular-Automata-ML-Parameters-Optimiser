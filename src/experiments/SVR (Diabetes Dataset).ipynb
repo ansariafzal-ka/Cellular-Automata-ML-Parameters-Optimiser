{
 "cells": [
  {
   "cell_type": "markdown",
   "id": "c7866084-7125-44ad-b21b-974d9be0ecdf",
   "metadata": {},
   "source": [
    "## Support Vector Regression"
   ]
  },
  {
   "cell_type": "markdown",
   "id": "77b9736a-eab7-4748-9a25-794e1e27f5f4",
   "metadata": {},
   "source": [
    "## Importing Libraries"
   ]
  },
  {
   "cell_type": "code",
   "execution_count": 1,
   "id": "5bedeb0e-8346-4ff2-9c40-07da754be612",
   "metadata": {},
   "outputs": [],
   "source": [
    "import sys\n",
    "import os\n",
    "\n",
    "current_dir = os.getcwd() \n",
    "code_dir = os.path.abspath(os.path.join(current_dir, '..', '..'))\n",
    "\n",
    "if code_dir not in sys.path:\n",
    "    sys.path.append(code_dir)\n",
    "\n",
    "from src.models.svm_models import SupportVectorRegression \n",
    "from src.loss_functions.regression_losses import EpsilonIntensitiveLoss\n",
    "from src.optimisers.gradient_based import BatchGradientDescent, StochasticGradientDescent, MiniBatchGradientDescent\n",
    "from src.optimisers.cellular_automata import CellularAutomataOptimiser\n",
    "\n",
    "import pandas as pd\n",
    "import numpy as np\n",
    "import time\n",
    "import random\n",
    "import matplotlib.pyplot as plt\n",
    "from sklearn.model_selection import train_test_split\n",
    "from sklearn.metrics import r2_score, mean_squared_error, mean_absolute_error"
   ]
  },
  {
   "cell_type": "markdown",
   "id": "44860a63-2ba7-4562-9da6-029619565ba3",
   "metadata": {},
   "source": [
    "## Loading the Diabetes Dataset"
   ]
  },
  {
   "cell_type": "code",
   "execution_count": 2,
   "id": "9a447960-8bc7-492e-9602-376290da9805",
   "metadata": {},
   "outputs": [],
   "source": [
    "df_diabetes = pd.read_csv('../datasets/diabetes.csv')\n",
    "X = df_diabetes.drop(\"target\", axis=1)\n",
    "y = df_diabetes[\"target\"]"
   ]
  },
  {
   "cell_type": "code",
   "execution_count": null,
   "id": "9d300b27-b753-49d5-b698-794a23649eea",
   "metadata": {},
   "outputs": [],
   "source": [
    "TEST_SIZE = 0.2\n",
    "SEED = 42"
   ]
  },
  {
   "cell_type": "code",
   "execution_count": 3,
   "id": "1f926075-6f81-4ee2-b61c-79768a0ca433",
   "metadata": {},
   "outputs": [],
   "source": [
    "X_train, X_test, y_train, y_test = train_test_split(X, y, test_size=TEST_SIZE, random_state=SEED)\n",
    "\n",
    "X_train = X_train.to_numpy()\n",
    "X_test = X_test.to_numpy()\n",
    "y_train = y_train.to_numpy()\n",
    "y_test = y_test.to_numpy()\n",
    "\n",
    "n_features = X_train.shape[1]"
   ]
  },
  {
   "cell_type": "code",
   "execution_count": 4,
   "id": "f2a7fb7e-d245-4bfc-9a09-c1ce1eccb2e2",
   "metadata": {},
   "outputs": [],
   "source": [
    "RUNS = 10\n",
    "final_aggregated_results = []\n",
    "PLOTTING_CURVES_EpIL = {}\n",
    "MAX_ITERS = 1000\n",
    "ALPHA = 0.01\n",
    "L=5\n",
    "MU=0.01\n",
    "OMEGA=0.8\n",
    "\n",
    "optimisers = {\n",
    "    'Batch Gradient Descent': BatchGradientDescent(ALPHA),\n",
    "    'Stochastic Gradient Descent': StochasticGradientDescent(ALPHA),\n",
    "    'Mini Batch Gradient Descent': MiniBatchGradientDescent(ALPHA),\n",
    "    'Cellular Automata Optimiser': CellularAutomataOptimiser(L=L, mu=MU, omega=OMEGA)\n",
    "}"
   ]
  },
  {
   "cell_type": "code",
   "execution_count": 7,
   "id": "31b180ad-40e1-47c3-a0de-9220f67400fc",
   "metadata": {},
   "outputs": [
    {
     "name": "stdout",
     "output_type": "stream",
     "text": [
      "===========================================================================\n",
      "Running Combination: Batch Gradient Descent / Epsilon Intensive Loss\n",
      "-> Stored average Epsilon Intensive Loss curve for Batch Gradient Descent.\n",
      "===========================================================================\n",
      "Running Combination: Stochastic Gradient Descent / Epsilon Intensive Loss\n",
      "-> Stored average Epsilon Intensive Loss curve for Stochastic Gradient Descent.\n",
      "===========================================================================\n",
      "Running Combination: Mini Batch Gradient Descent / Epsilon Intensive Loss\n",
      "-> Stored average Epsilon Intensive Loss curve for Mini Batch Gradient Descent.\n",
      "===========================================================================\n",
      "Running Combination: Cellular Automata Optimiser / Epsilon Intensive Loss\n",
      "-> Stored average Epsilon Intensive Loss curve for Cellular Automata Optimiser.\n"
     ]
    }
   ],
   "source": [
    "print('==================== CONFIGURATIONS ====================')\n",
    "print(f'MAX_ITERS={MAX_ITERS}, TEST_SIZE={TEST_SIZE}, ALPHA={ALPHA}, RUNS={RUNS}')\n",
    "print(f'L={L}, μ={MU}, ω={OMEGA}')\n",
    "print('='*56)\n",
    "\n",
    "# use one optimiser at a time\n",
    "for optimiser_name, optimiser in optimisers.items():\n",
    "    # Only one loss function (Epsilon Intensive Loss) is used for SVR\n",
    "    loss_name = 'Epsilon Intensive Loss'\n",
    "\n",
    "    print('='*75)\n",
    "    print(f'Running Combination: {optimiser_name} / {loss_name}')\n",
    "\n",
    "    # metric used for evaluation\n",
    "    train_losses_for_avg = []\n",
    "    r2_score_for_avg = []\n",
    "    test_mse_for_avg = []\n",
    "    test_mae_for_avg = [] \n",
    "    run_times_for_avg = []\n",
    "    loss_per_iterations = []\n",
    "\n",
    "    # test every optimiser for 10 runs\n",
    "    for i in range(RUNS):\n",
    "        model = SupportVectorRegression(n_features=n_features)\n",
    "\n",
    "        loss_func = EpsilonIntensitiveLoss(model.C, model.weights, epsilon=0.1)\n",
    "        \n",
    "        start_time = time.time()\n",
    "        optimiser_results = optimiser.optimise(model, loss_func, X_train, y_train, max_iters=MAX_ITERS) \n",
    "        run_time = time.time() - start_time\n",
    "\n",
    "        model.set_params(optimiser_results['parameters'])\n",
    "        y_pred = model.predict(X_test)\n",
    "\n",
    "        test_mse = mean_squared_error(y_test, y_pred)\n",
    "        test_mae = mean_absolute_error(y_test, y_pred)\n",
    "            \n",
    "        train_losses_for_avg.append(optimiser_results['best_loss'])\n",
    "        test_mse_for_avg.append(test_mse)\n",
    "        test_mae_for_avg.append(test_mae)\n",
    "        r2_score_for_avg.append(r2_score(y_test, y_pred))\n",
    "        run_times_for_avg.append(run_time)\n",
    "        loss_per_iterations.append(optimiser_results['loss_history'])\n",
    "        \n",
    "    train_losses_array = np.array(train_losses_for_avg)\n",
    "    test_mse_array = np.array(test_mse_for_avg)\n",
    "    test_mae_array = np.array(test_mae_for_avg)\n",
    "    r2_score_array = np.array(r2_score_for_avg)\n",
    "    run_times_array = np.array(run_times_for_avg)\n",
    "    loss_per_iterations_array = np.array(loss_per_iterations)\n",
    "\n",
    "    avg_train_loss = np.mean(train_losses_array)\n",
    "    std_dev_train_loss = np.std(train_losses_array)\n",
    "    avg_test_mse = np.mean(test_mse_array)\n",
    "    std_dev_test_mse = np.std(test_mse_array)\n",
    "    avg_test_mae = np.mean(test_mae_array)\n",
    "    std_dev_test_mae = np.std(test_mae_array)\n",
    "    avg_r2_score = np.mean(r2_score_array)\n",
    "    std_dev_r2_score = np.std(r2_score_array)\n",
    "    avg_time = np.mean(run_times_array)\n",
    "    std_dev_time = np.std(run_times_array)\n",
    "    avg_loss_per_iter = np.mean(loss_per_iterations_array, axis=0)\n",
    "    \n",
    "    if loss_name == 'Epsilon Intensive Loss':\n",
    "        PLOTTING_CURVES_EpIL[optimiser_name] = avg_loss_per_iter\n",
    "        print(f\"-> Stored average {loss_name} curve for {optimiser_name}.\")\n",
    "\n",
    "    final_aggregated_results.append({\n",
    "        'Optimiser': optimiser_name,\n",
    "        'Loss_Function': loss_name,\n",
    "        'Avg_Train_Loss': avg_train_loss,\n",
    "        'Std_Dev_Train_Loss': std_dev_train_loss,\n",
    "        'Avg_Test_MSE': avg_test_mse,\n",
    "        'Std_Dev_Test_MSE': std_dev_test_mse,\n",
    "        'Avg_Test_MAE': avg_test_mae,\n",
    "        'Std_Dev_Test_MAE': std_dev_test_mae,\n",
    "        'Avg_R2_Score': avg_r2_score,\n",
    "        'Std_Dev_R2_Score': std_dev_r2_score,\n",
    "        'Avg_Time_s': avg_time,\n",
    "        'Std_Dev_Time_s': std_dev_time\n",
    "    })"
   ]
  },
  {
   "cell_type": "code",
   "execution_count": 8,
   "id": "29be65ae-d326-4198-8a7c-2c17100d7a5f",
   "metadata": {},
   "outputs": [
    {
     "name": "stdout",
     "output_type": "stream",
     "text": [
      "Successfully saved results to: tables\\SVR_Diabetes_results.csv\n"
     ]
    }
   ],
   "source": [
    "results_df = pd.DataFrame(final_aggregated_results)\n",
    "\n",
    "output_folder = \"tables\"\n",
    "file_name = \"SVR_Diabetes_results.csv\"\n",
    "output_path = os.path.join(output_folder, file_name)\n",
    "\n",
    "results_df.to_csv(output_path, index=False)\n",
    "print(f\"Successfully saved results to: {output_path}\")"
   ]
  },
  {
   "cell_type": "code",
   "execution_count": 9,
   "id": "b3e2c63b-691e-4d02-9214-1b8fbbe6657a",
   "metadata": {},
   "outputs": [
    {
     "data": {
      "text/html": [
       "<div>\n",
       "<style scoped>\n",
       "    .dataframe tbody tr th:only-of-type {\n",
       "        vertical-align: middle;\n",
       "    }\n",
       "\n",
       "    .dataframe tbody tr th {\n",
       "        vertical-align: top;\n",
       "    }\n",
       "\n",
       "    .dataframe thead th {\n",
       "        text-align: right;\n",
       "    }\n",
       "</style>\n",
       "<table border=\"1\" class=\"dataframe\">\n",
       "  <thead>\n",
       "    <tr style=\"text-align: right;\">\n",
       "      <th></th>\n",
       "      <th>Optimiser</th>\n",
       "      <th>Loss_Function</th>\n",
       "      <th>Avg_Train_Loss</th>\n",
       "      <th>Std_Dev_Train_Loss</th>\n",
       "      <th>Avg_Test_MSE</th>\n",
       "      <th>Std_Dev_Test_MSE</th>\n",
       "      <th>Avg_Test_MAE</th>\n",
       "      <th>Std_Dev_Test_MAE</th>\n",
       "      <th>Avg_R2_Score</th>\n",
       "      <th>Std_Dev_R2_Score</th>\n",
       "      <th>Avg_Time_s</th>\n",
       "      <th>Std_Dev_Time_s</th>\n",
       "    </tr>\n",
       "  </thead>\n",
       "  <tbody>\n",
       "    <tr>\n",
       "      <th>0</th>\n",
       "      <td>Batch Gradient Descent</td>\n",
       "      <td>Epsilon Intensive Loss</td>\n",
       "      <td>34319.616199</td>\n",
       "      <td>9632.337364</td>\n",
       "      <td>14634.821488</td>\n",
       "      <td>7872.878138</td>\n",
       "      <td>97.523165</td>\n",
       "      <td>27.510194</td>\n",
       "      <td>-1.762250</td>\n",
       "      <td>1.485967</td>\n",
       "      <td>0.018198</td>\n",
       "      <td>0.000709</td>\n",
       "    </tr>\n",
       "    <tr>\n",
       "      <th>1</th>\n",
       "      <td>Stochastic Gradient Descent</td>\n",
       "      <td>Epsilon Intensive Loss</td>\n",
       "      <td>96.584774</td>\n",
       "      <td>24.079129</td>\n",
       "      <td>14033.386909</td>\n",
       "      <td>6803.086957</td>\n",
       "      <td>94.660008</td>\n",
       "      <td>24.793776</td>\n",
       "      <td>-1.648733</td>\n",
       "      <td>1.284049</td>\n",
       "      <td>12.713184</td>\n",
       "      <td>4.760248</td>\n",
       "    </tr>\n",
       "    <tr>\n",
       "      <th>2</th>\n",
       "      <td>Mini Batch Gradient Descent</td>\n",
       "      <td>Epsilon Intensive Loss</td>\n",
       "      <td>2399.325753</td>\n",
       "      <td>652.312295</td>\n",
       "      <td>10749.387351</td>\n",
       "      <td>6202.096702</td>\n",
       "      <td>81.819301</td>\n",
       "      <td>22.789697</td>\n",
       "      <td>-1.028894</td>\n",
       "      <td>1.170615</td>\n",
       "      <td>0.224417</td>\n",
       "      <td>0.007296</td>\n",
       "    </tr>\n",
       "    <tr>\n",
       "      <th>3</th>\n",
       "      <td>Cellular Automata Optimiser</td>\n",
       "      <td>Epsilon Intensive Loss</td>\n",
       "      <td>15247.402567</td>\n",
       "      <td>22.243756</td>\n",
       "      <td>3042.956391</td>\n",
       "      <td>37.137038</td>\n",
       "      <td>43.628252</td>\n",
       "      <td>0.290684</td>\n",
       "      <td>0.425657</td>\n",
       "      <td>0.007009</td>\n",
       "      <td>5.402570</td>\n",
       "      <td>0.496520</td>\n",
       "    </tr>\n",
       "  </tbody>\n",
       "</table>\n",
       "</div>"
      ],
      "text/plain": [
       "                     Optimiser           Loss_Function  Avg_Train_Loss  \\\n",
       "0       Batch Gradient Descent  Epsilon Intensive Loss    34319.616199   \n",
       "1  Stochastic Gradient Descent  Epsilon Intensive Loss       96.584774   \n",
       "2  Mini Batch Gradient Descent  Epsilon Intensive Loss     2399.325753   \n",
       "3  Cellular Automata Optimiser  Epsilon Intensive Loss    15247.402567   \n",
       "\n",
       "   Std_Dev_Train_Loss  Avg_Test_MSE  Std_Dev_Test_MSE  Avg_Test_MAE  \\\n",
       "0         9632.337364  14634.821488       7872.878138     97.523165   \n",
       "1           24.079129  14033.386909       6803.086957     94.660008   \n",
       "2          652.312295  10749.387351       6202.096702     81.819301   \n",
       "3           22.243756   3042.956391         37.137038     43.628252   \n",
       "\n",
       "   Std_Dev_Test_MAE  Avg_R2_Score  Std_Dev_R2_Score  Avg_Time_s  \\\n",
       "0         27.510194     -1.762250          1.485967    0.018198   \n",
       "1         24.793776     -1.648733          1.284049   12.713184   \n",
       "2         22.789697     -1.028894          1.170615    0.224417   \n",
       "3          0.290684      0.425657          0.007009    5.402570   \n",
       "\n",
       "   Std_Dev_Time_s  \n",
       "0        0.000709  \n",
       "1        4.760248  \n",
       "2        0.007296  \n",
       "3        0.496520  "
      ]
     },
     "execution_count": 9,
     "metadata": {},
     "output_type": "execute_result"
    }
   ],
   "source": [
    "results_df"
   ]
  },
  {
   "cell_type": "code",
   "execution_count": 10,
   "id": "49758bcf-14de-4a5d-9c05-e6c41f8b85d2",
   "metadata": {},
   "outputs": [
    {
     "data": {
      "image/png": "[encoded data removed]",
      "text/plain": [
       "<Figure size 1200x400 with 1 Axes>"
      ]
     },
     "metadata": {},
     "output_type": "display_data"
    }
   ],
   "source": [
    "iterations = np.arange(1, MAX_ITERS + 1)\n",
    "fig, ax = plt.subplots(1, 1, figsize=(12, 4)) \n",
    "\n",
    "for optimiser_name, avg_curve in PLOTTING_CURVES_EpIL.items():\n",
    "    ax.plot(iterations, avg_curve, label=optimiser_name, linewidth=2) \n",
    "\n",
    "ax.set_title('Epsilon Intensive Loss', fontsize=14)\n",
    "ax.set_xlabel('Iterations (Epochs)', fontsize=12)\n",
    "ax.set_ylabel('Average Loss Over 10 Runs', fontsize=12)\n",
    "ax.grid(True, linestyle='--', alpha=0.6)\n",
    "ax.legend()\n",
    "\n",
    "fig.suptitle('Optimisers Convergence on Support Vector Regression (Diabetes Dataset)', fontsize=14, y=0.95) \n",
    "plt.tight_layout(rect=[0, 0, 1, 0.95])\n",
    "plt.savefig('Support Vector Regression Loss Plot (Diabetes Dataset).png')"
   ]
  }
 ],
 "metadata": {
  "kernelspec": {
   "display_name": "Python 3 (ipykernel)",
   "language": "python",
   "name": "python3"
  },
  "language_info": {
   "codemirror_mode": {
    "name": "ipython",
    "version": 3
   },
   "file_extension": ".py",
   "mimetype": "text/x-python",
   "name": "python",
   "nbconvert_exporter": "python",
   "pygments_lexer": "ipython3",
   "version": "3.13.3"
  }
 },
 "nbformat": 4,
 "nbformat_minor": 5
}
