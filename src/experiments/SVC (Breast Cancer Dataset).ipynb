{
 "cells": [
  {
   "cell_type": "markdown",
   "id": "946069f2-9985-412f-bdd0-e3eb19aa398e",
   "metadata": {},
   "source": [
    "## Support Vector Classification"
   ]
  },
  {
   "cell_type": "markdown",
   "id": "7811aff5-29aa-4395-a477-b4ea2a1734f9",
   "metadata": {},
   "source": [
    "## Importing Libraries"
   ]
  },
  {
   "cell_type": "code",
   "execution_count": 1,
   "id": "6ca4109c-9edd-4b31-9dda-4aae496d401e",
   "metadata": {},
   "outputs": [],
   "source": [
    "import sys\n",
    "import os\n",
    "\n",
    "current_dir = os.getcwd() \n",
    "code_dir = os.path.abspath(os.path.join(current_dir, '..', '..'))\n",
    "\n",
    "if code_dir not in sys.path:\n",
    "    sys.path.append(code_dir)\n",
    "\n",
    "from src.models.svm_models import SupportVectorClassifier\n",
    "from src.loss_functions.classification_losses import HingeLoss\n",
    "from src.optimisers.gradient_based import BatchGradientDescent, StochasticGradientDescent, MiniBatchGradientDescent\n",
    "from src.optimisers.cellular_automata import CellularAutomataOptimiser\n",
    "from src.utils import configurations\n",
    "\n",
    "import pandas as pd\n",
    "import numpy as np\n",
    "import time\n",
    "import random\n",
    "import matplotlib.pyplot as plt\n",
    "from sklearn.linear_model import LinearRegression as SK_LinearRegression\n",
    "from sklearn.model_selection import train_test_split\n",
    "from sklearn.metrics import accuracy_score, f1_score"
   ]
  },
  {
   "cell_type": "markdown",
   "id": "524e5fcb-af25-4c60-9e5e-996ca06b9121",
   "metadata": {},
   "source": [
    "## Loading the Breast Cancer Dataset"
   ]
  },
  {
   "cell_type": "code",
   "execution_count": 2,
   "id": "ec59b57f-653a-4a36-b20b-3c27c0b4f3ca",
   "metadata": {},
   "outputs": [],
   "source": [
    "df_breast_cancer = pd.read_csv('../datasets/breast_cancer.csv')\n",
    "X = df_breast_cancer.drop(\"target\", axis=1)\n",
    "y = df_breast_cancer[\"target\"]"
   ]
  },
  {
   "cell_type": "code",
   "execution_count": 3,
   "id": "71585b1d-d207-40c7-aeda-a6e1d55e9c6c",
   "metadata": {},
   "outputs": [],
   "source": [
    "y = np.where(y > 0, 1, -1)\n",
    "X_train, X_test, y_train, y_test = train_test_split(X, y, test_size=configurations.TEST_SIZE, random_state=configurations.SEED)\n",
    "\n",
    "X_train = X_train.to_numpy()\n",
    "X_test = X_test.to_numpy()\n",
    "\n",
    "n_features = X_train.shape[1]"
   ]
  },
  {
   "cell_type": "code",
   "execution_count": 4,
   "id": "ea841ae0-0dbc-4fb2-8cd7-6fab96a18d5f",
   "metadata": {},
   "outputs": [],
   "source": [
    "RUNS = 10\n",
    "ALPHA = 0.01\n",
    "\n",
    "optimisers = {\n",
    "    'Batch Gradient Descent': BatchGradientDescent(ALPHA),\n",
    "    'Stochastic Gradient Descent': StochasticGradientDescent(ALPHA),\n",
    "    'Mini Batch Gradient Descent': MiniBatchGradientDescent(ALPHA),\n",
    "    'Cellular Automata Optimiser': CellularAutomataOptimiser(L=5, mu=0.01, omega=0.8)\n",
    "}"
   ]
  },
  {
   "cell_type": "code",
   "execution_count": 5,
   "id": "1afc8877-eda1-484f-b729-ade4f44eb6e5",
   "metadata": {},
   "outputs": [],
   "source": [
    "final_aggregated_results = []\n",
    "PLOTTING_CURVES_Hinge = {}\n",
    "MAX_ITERS = 1000"
   ]
  },
  {
   "cell_type": "code",
   "execution_count": 6,
   "id": "7fab58fc-ebcc-46ac-972a-291af1dd11c3",
   "metadata": {},
   "outputs": [
    {
     "name": "stdout",
     "output_type": "stream",
     "text": [
      "==================== CONFIGURATIONS ====================\n",
      "MAX_ITERS=1000, TEST_SIZE=0.2, ALPHA=0.01\n",
      "========================================================\n"
     ]
    }
   ],
   "source": [
    "print('==================== CONFIGURATIONS ====================')\n",
    "print(f\"MAX_ITERS={MAX_ITERS}, TEST_SIZE={configurations.TEST_SIZE}, ALPHA={ALPHA}\")\n",
    "print('='*56)"
   ]
  },
  {
   "cell_type": "code",
   "execution_count": 7,
   "id": "957d9c35-b645-4da0-8eb8-93f9f0565470",
   "metadata": {},
   "outputs": [
    {
     "name": "stdout",
     "output_type": "stream",
     "text": [
      "===========================================================================\n",
      "Running Combination: Batch Gradient Descent / Hinge Loss\n",
      "-> Stored average Hinge Loss curve for Batch Gradient Descent.\n",
      "===========================================================================\n",
      "Running Combination: Stochastic Gradient Descent / Hinge Loss\n",
      "-> Stored average Hinge Loss curve for Stochastic Gradient Descent.\n",
      "===========================================================================\n",
      "Running Combination: Mini Batch Gradient Descent / Hinge Loss\n",
      "-> Stored average Hinge Loss curve for Mini Batch Gradient Descent.\n",
      "===========================================================================\n",
      "Running Combination: Cellular Automata Optimiser / Hinge Loss\n",
      "-> Stored average Hinge Loss curve for Cellular Automata Optimiser.\n"
     ]
    }
   ],
   "source": [
    "# use one optimiser at a time\n",
    "for optimiser_name, optimiser in optimisers.items():\n",
    "    # Only one loss function (Hinge Loss) is used for SVC\n",
    "    loss_name = 'Hinge Loss'\n",
    "\n",
    "    print('='*75)\n",
    "    print(f'Running Combination: {optimiser_name} / {loss_name}')\n",
    "\n",
    "    # metric used for evaluation\n",
    "    train_losses_for_avg = []\n",
    "    test_accuracy_for_avg = []\n",
    "    test_f1_score_for_avg = []\n",
    "    run_times_for_avg = []\n",
    "    loss_per_iterations = []\n",
    "\n",
    "    # test every optimiser for 10 runs\n",
    "    for i in range(RUNS):\n",
    "        model = SupportVectorClassifier(n_features=n_features)\n",
    "        model.set_param_bounds([(-3.0, 3.0)])\n",
    "\n",
    "        loss_func = HingeLoss(model.C, model.weights)\n",
    "        \n",
    "        start_time = time.time()\n",
    "        optimiser_results = optimiser.optimise(model, loss_func, X_train, y_train, max_iters=MAX_ITERS) \n",
    "        run_time = time.time() - start_time\n",
    "\n",
    "        model.set_params(optimiser_results['parameters'])\n",
    "        y_pred = np.where(model.predict(X_test) >= 0, 1, -1) # converting to (-1 and 1) for test predictions\n",
    "\n",
    "        test_accuracy = accuracy_score(y_test, y_pred)\n",
    "        test_f1_score = f1_score(y_test, y_pred)\n",
    "            \n",
    "        train_losses_for_avg.append(optimiser_results['best_loss'])\n",
    "        test_accuracy_for_avg.append(test_accuracy)\n",
    "        test_f1_score_for_avg.append(test_f1_score)\n",
    "        run_times_for_avg.append(run_time)\n",
    "        loss_per_iterations.append(optimiser_results['loss_history'])\n",
    "        \n",
    "    train_losses_array = np.array(train_losses_for_avg)\n",
    "    test_accuracy_array = np.array(test_accuracy_for_avg)\n",
    "    test_f1_score_array = np.array(test_f1_score_for_avg)\n",
    "    run_times_array = np.array(run_times_for_avg)\n",
    "    loss_per_iterations_array = np.array(loss_per_iterations)\n",
    "\n",
    "    avg_train_loss = np.mean(train_losses_array)\n",
    "    std_dev_train_loss = np.std(train_losses_array)\n",
    "    avg_test_accuracy = np.mean(test_accuracy_array)\n",
    "    std_dev_test_accuracy = np.std(test_accuracy_array)\n",
    "    avg_f1_score = np.mean(test_f1_score_array)\n",
    "    std_dev_f1_score = np.std(test_f1_score_array)\n",
    "    avg_time = np.mean(run_times_array)\n",
    "    std_dev_time = np.std(run_times_array)\n",
    "    avg_loss_per_iter = np.mean(loss_per_iterations_array, axis=0)\n",
    "    \n",
    "    if loss_name == 'Hinge Loss':\n",
    "        PLOTTING_CURVES_Hinge[optimiser_name] = avg_loss_per_iter\n",
    "        print(f\"-> Stored average {loss_name} curve for {optimiser_name}.\")\n",
    "\n",
    "    final_aggregated_results.append({\n",
    "        'Optimiser': optimiser_name,\n",
    "        'Loss_Function': loss_name,\n",
    "        'Avg_Train_Loss': avg_train_loss,\n",
    "        'Std_Dev_Train_Loss': std_dev_train_loss,\n",
    "        'Avg_Test_Accuracy': avg_test_accuracy,\n",
    "        'Std_Dev_Test_Accuracy': std_dev_test_accuracy,\n",
    "        'Avg_F1_Score': avg_f1_score,\n",
    "        'Std_Dev_F1_Score': std_dev_f1_score,\n",
    "        'Avg_Time_s': avg_time,\n",
    "        'Std_Dev_Time_s': std_dev_time\n",
    "    })"
   ]
  },
  {
   "cell_type": "code",
   "execution_count": 8,
   "id": "8e8669fe-d53f-4a30-86f6-4cf7a87c947a",
   "metadata": {},
   "outputs": [
    {
     "name": "stdout",
     "output_type": "stream",
     "text": [
      "Successfully saved results to: tables\\SVC_Breast_Cancer.csv\n"
     ]
    }
   ],
   "source": [
    "results_df = pd.DataFrame(final_aggregated_results)\n",
    "\n",
    "output_folder = \"tables\"\n",
    "file_name = \"SVC_Breast_Cancer.csv\"\n",
    "output_path = os.path.join(output_folder, file_name)\n",
    "\n",
    "results_df.to_csv(output_path, index=False)\n",
    "print(f\"Successfully saved results to: {output_path}\")"
   ]
  },
  {
   "cell_type": "code",
   "execution_count": 9,
   "id": "f43f9be7-d988-434f-819c-29ef01050fee",
   "metadata": {},
   "outputs": [
    {
     "data": {
      "text/html": [
       "<div>\n",
       "<style scoped>\n",
       "    .dataframe tbody tr th:only-of-type {\n",
       "        vertical-align: middle;\n",
       "    }\n",
       "\n",
       "    .dataframe tbody tr th {\n",
       "        vertical-align: top;\n",
       "    }\n",
       "\n",
       "    .dataframe thead th {\n",
       "        text-align: right;\n",
       "    }\n",
       "</style>\n",
       "<table border=\"1\" class=\"dataframe\">\n",
       "  <thead>\n",
       "    <tr style=\"text-align: right;\">\n",
       "      <th></th>\n",
       "      <th>Optimiser</th>\n",
       "      <th>Loss_Function</th>\n",
       "      <th>Avg_Train_Loss</th>\n",
       "      <th>Std_Dev_Train_Loss</th>\n",
       "      <th>Avg_Test_Accuracy</th>\n",
       "      <th>Std_Dev_Test_Accuracy</th>\n",
       "      <th>Avg_F1_Score</th>\n",
       "      <th>Std_Dev_F1_Score</th>\n",
       "      <th>Avg_Time_s</th>\n",
       "      <th>Std_Dev_Time_s</th>\n",
       "    </tr>\n",
       "  </thead>\n",
       "  <tbody>\n",
       "    <tr>\n",
       "      <th>0</th>\n",
       "      <td>Batch Gradient Descent</td>\n",
       "      <td>Hinge Loss</td>\n",
       "      <td>10.001422</td>\n",
       "      <td>1.024460</td>\n",
       "      <td>0.963158</td>\n",
       "      <td>0.007647</td>\n",
       "      <td>0.969979</td>\n",
       "      <td>0.006317</td>\n",
       "      <td>0.027764</td>\n",
       "      <td>0.001987</td>\n",
       "    </tr>\n",
       "    <tr>\n",
       "      <th>1</th>\n",
       "      <td>Stochastic Gradient Descent</td>\n",
       "      <td>Hinge Loss</td>\n",
       "      <td>0.021399</td>\n",
       "      <td>0.001231</td>\n",
       "      <td>0.964035</td>\n",
       "      <td>0.007287</td>\n",
       "      <td>0.970770</td>\n",
       "      <td>0.005947</td>\n",
       "      <td>14.279328</td>\n",
       "      <td>0.572353</td>\n",
       "    </tr>\n",
       "    <tr>\n",
       "      <th>2</th>\n",
       "      <td>Mini Batch Gradient Descent</td>\n",
       "      <td>Hinge Loss</td>\n",
       "      <td>0.663519</td>\n",
       "      <td>0.036155</td>\n",
       "      <td>0.964035</td>\n",
       "      <td>0.004724</td>\n",
       "      <td>0.970780</td>\n",
       "      <td>0.003794</td>\n",
       "      <td>0.544682</td>\n",
       "      <td>0.030555</td>\n",
       "    </tr>\n",
       "    <tr>\n",
       "      <th>3</th>\n",
       "      <td>Cellular Automata Optimiser</td>\n",
       "      <td>Hinge Loss</td>\n",
       "      <td>15.795286</td>\n",
       "      <td>1.671932</td>\n",
       "      <td>0.971930</td>\n",
       "      <td>0.008595</td>\n",
       "      <td>0.977383</td>\n",
       "      <td>0.006980</td>\n",
       "      <td>22.951571</td>\n",
       "      <td>2.815989</td>\n",
       "    </tr>\n",
       "  </tbody>\n",
       "</table>\n",
       "</div>"
      ],
      "text/plain": [
       "                     Optimiser Loss_Function  Avg_Train_Loss  \\\n",
       "0       Batch Gradient Descent    Hinge Loss       10.001422   \n",
       "1  Stochastic Gradient Descent    Hinge Loss        0.021399   \n",
       "2  Mini Batch Gradient Descent    Hinge Loss        0.663519   \n",
       "3  Cellular Automata Optimiser    Hinge Loss       15.795286   \n",
       "\n",
       "   Std_Dev_Train_Loss  Avg_Test_Accuracy  Std_Dev_Test_Accuracy  Avg_F1_Score  \\\n",
       "0            1.024460           0.963158               0.007647      0.969979   \n",
       "1            0.001231           0.964035               0.007287      0.970770   \n",
       "2            0.036155           0.964035               0.004724      0.970780   \n",
       "3            1.671932           0.971930               0.008595      0.977383   \n",
       "\n",
       "   Std_Dev_F1_Score  Avg_Time_s  Std_Dev_Time_s  \n",
       "0          0.006317    0.027764        0.001987  \n",
       "1          0.005947   14.279328        0.572353  \n",
       "2          0.003794    0.544682        0.030555  \n",
       "3          0.006980   22.951571        2.815989  "
      ]
     },
     "execution_count": 9,
     "metadata": {},
     "output_type": "execute_result"
    }
   ],
   "source": [
    "results_df"
   ]
  },
  {
   "cell_type": "code",
   "execution_count": 10,
   "id": "ea51a8a3-7183-458f-bf4d-5b523915afac",
   "metadata": {},
   "outputs": [
    {
     "data": {
      "image/png": "[encoded data removed]",
      "text/plain": [
       "<Figure size 1200x400 with 1 Axes>"
      ]
     },
     "metadata": {},
     "output_type": "display_data"
    }
   ],
   "source": [
    "iterations = np.arange(1, MAX_ITERS + 1)\n",
    "fig, ax = plt.subplots(1, 1, figsize=(12, 4)) \n",
    "\n",
    "for optimiser_name, avg_curve in PLOTTING_CURVES_Hinge.items():\n",
    "    ax.plot(iterations, avg_curve, label=optimiser_name, linewidth=2) \n",
    "\n",
    "ax.set_title('Hinge Loss', fontsize=14)\n",
    "ax.set_xlabel('Iterations (Epochs)', fontsize=12)\n",
    "ax.set_ylabel('Average Loss Over 10 Runs', fontsize=12)\n",
    "ax.grid(True, linestyle='--', alpha=0.6)\n",
    "ax.legend()\n",
    "\n",
    "fig.suptitle('Optimisers Convergence on Support Vector Classifier (Breast Cancer Dataset)', fontsize=14, y=0.95) \n",
    "plt.tight_layout(rect=[0, 0, 1, 0.95])\n",
    "plt.savefig('Support Vector Classification Loss Plot (Breast Cancer Dataset).png')"
   ]
  },
  {
   "cell_type": "code",
   "execution_count": null,
   "id": "fa3fbfea-cf48-4d72-b6c4-57881986b142",
   "metadata": {},
   "outputs": [],
   "source": []
  }
 ],
 "metadata": {
  "kernelspec": {
   "display_name": "Python 3 (ipykernel)",
   "language": "python",
   "name": "python3"
  },
  "language_info": {
   "codemirror_mode": {
    "name": "ipython",
    "version": 3
   },
   "file_extension": ".py",
   "mimetype": "text/x-python",
   "name": "python",
   "nbconvert_exporter": "python",
   "pygments_lexer": "ipython3",
   "version": "3.13.3"
  }
 },
 "nbformat": 4,
 "nbformat_minor": 5
}
