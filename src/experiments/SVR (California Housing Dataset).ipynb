{
 "cells": [
  {
   "cell_type": "markdown",
   "id": "0c57d5ad-6f4d-4b46-b55a-923a9ecdff63",
   "metadata": {
    "vscode": {
     "languageId": "plaintext"
    }
   },
   "source": [
    "## Support Vector Regression"
   ]
  },
  {
   "cell_type": "markdown",
   "id": "dc9f5893-7126-41f7-93df-1459fdd5b9ec",
   "metadata": {},
   "source": [
    "## Importing Libraries"
   ]
  },
  {
   "cell_type": "code",
   "execution_count": 1,
   "id": "0e96f859-4c8d-4f8b-b5d9-87b26b53dba3",
   "metadata": {},
   "outputs": [],
   "source": [
    "import sys\n",
    "import os\n",
    "\n",
    "current_dir = os.getcwd() \n",
    "code_dir = os.path.abspath(os.path.join(current_dir, '..', '..'))\n",
    "\n",
    "if code_dir not in sys.path:\n",
    "    sys.path.append(code_dir)\n",
    "\n",
    "from src.models.svm_models import SupportVectorRegression \n",
    "from src.loss_functions.regression_losses import EpsilonIntensitiveLoss\n",
    "from src.optimisers.gradient_based import BatchGradientDescent, StochasticGradientDescent, MiniBatchGradientDescent\n",
    "from src.optimisers.cellular_automata import CellularAutomataOptimiser\n",
    "\n",
    "import pandas as pd\n",
    "import numpy as np\n",
    "import time\n",
    "import random\n",
    "import matplotlib.pyplot as plt\n",
    "from sklearn.model_selection import train_test_split\n",
    "from sklearn.metrics import r2_score, mean_squared_error, mean_absolute_error"
   ]
  },
  {
   "cell_type": "markdown",
   "id": "9375151e-801d-4d5b-9147-45cf933987cf",
   "metadata": {},
   "source": [
    "## Loading the california housing dataset"
   ]
  },
  {
   "cell_type": "code",
   "execution_count": 2,
   "id": "19f3c7c3-bd40-4d54-97b4-7a0805700e6d",
   "metadata": {},
   "outputs": [],
   "source": [
    "df_california = pd.read_csv('../datasets/california_housing.csv')\n",
    "X = df_california.drop(\"target\", axis=1)\n",
    "y = df_california[\"target\"]"
   ]
  },
  {
   "cell_type": "code",
   "execution_count": 3,
   "id": "22919b12-62f7-4450-9487-fa83d14a7587",
   "metadata": {},
   "outputs": [],
   "source": [
    "TEST_SIZE = 0.2\n",
    "SEED = 42"
   ]
  },
  {
   "cell_type": "code",
   "execution_count": 4,
   "id": "390d49af-9f9d-49ce-a6bf-f27fec2f5ee2",
   "metadata": {},
   "outputs": [],
   "source": [
    "X_train, X_test, y_train, y_test = train_test_split(X, y, test_size=TEST_SIZE, random_state=SEED)\n",
    "\n",
    "X_train = X_train.to_numpy()\n",
    "X_test = X_test.to_numpy()\n",
    "y_train = y_train.to_numpy()\n",
    "y_test = y_test.to_numpy()\n",
    "\n",
    "n_features = X_train.shape[1]"
   ]
  },
  {
   "cell_type": "code",
   "execution_count": 5,
   "id": "bb8a9263-0787-4a8c-80de-8c5a959ca64e",
   "metadata": {},
   "outputs": [],
   "source": [
    "RUNS = 10\n",
    "final_aggregated_results = []\n",
    "PLOTTING_CURVES_EpIL = {}\n",
    "MAX_ITERS = 1000\n",
    "ALPHA = 0.0001\n",
    "L=5\n",
    "MU=0.01\n",
    "OMEGA=0.8\n",
    "\n",
    "optimisers = {\n",
    "    'Batch Gradient Descent': BatchGradientDescent(ALPHA),\n",
    "    'Stochastic Gradient Descent': StochasticGradientDescent(ALPHA),\n",
    "    'Mini Batch Gradient Descent': MiniBatchGradientDescent(ALPHA),\n",
    "    'Cellular Automata Optimiser': CellularAutomataOptimiser(L=L, mu=MU, omega=OMEGA)\n",
    "}"
   ]
  },
  {
   "cell_type": "code",
   "execution_count": 6,
   "id": "ecc8f504-3566-4ebb-ad88-d298cd30a1f9",
   "metadata": {},
   "outputs": [
    {
     "name": "stdout",
     "output_type": "stream",
     "text": [
      "==================== CONFIGURATIONS ====================\n",
      "MAX_ITERS=1000, TEST_SIZE=0.2, ALPHA=0.0001, RUNS=10\n",
      "L=5, μ=0.01, ω=0.8\n",
      "========================================================\n",
      "===========================================================================\n",
      "Running Combination: Batch Gradient Descent / Epsilon Intensive Loss\n",
      "-> Stored average Epsilon Intensive Loss curve for Batch Gradient Descent.\n",
      "===========================================================================\n",
      "Running Combination: Stochastic Gradient Descent / Epsilon Intensive Loss\n",
      "-> Stored average Epsilon Intensive Loss curve for Stochastic Gradient Descent.\n",
      "===========================================================================\n",
      "Running Combination: Mini Batch Gradient Descent / Epsilon Intensive Loss\n",
      "-> Stored average Epsilon Intensive Loss curve for Mini Batch Gradient Descent.\n",
      "===========================================================================\n",
      "Running Combination: Cellular Automata Optimiser / Epsilon Intensive Loss\n",
      "-> Stored average Epsilon Intensive Loss curve for Cellular Automata Optimiser.\n"
     ]
    }
   ],
   "source": [
    "print('==================== CONFIGURATIONS ====================')\n",
    "print(f'MAX_ITERS={MAX_ITERS}, TEST_SIZE={TEST_SIZE}, ALPHA={ALPHA}, RUNS={RUNS}')\n",
    "print(f'L={L}, μ={MU}, ω={OMEGA}')\n",
    "print('='*56)\n",
    "\n",
    "\n",
    "# use one optimiser at a time\n",
    "for optimiser_name, optimiser in optimisers.items():\n",
    "    # Only one loss function (Epsilon Intensive Loss) is used for SVR\n",
    "    loss_name = 'Epsilon Intensive Loss'\n",
    "\n",
    "    print('='*75)\n",
    "    print(f'Running Combination: {optimiser_name} / {loss_name}')\n",
    "\n",
    "    # metric used for evaluation\n",
    "    train_losses_for_avg = []\n",
    "    r2_score_for_avg = []\n",
    "    test_mse_for_avg = []\n",
    "    test_mae_for_avg = [] \n",
    "    run_times_for_avg = []\n",
    "    loss_per_iterations = []\n",
    "\n",
    "    # test every optimiser for 10 runs\n",
    "    for i in range(RUNS):\n",
    "        model = SupportVectorRegression(n_features=n_features)\n",
    "        model.set_param_bounds([(-10.0, 10.0)]) # to prevent exploding gradients and ensure numerical stability\n",
    "\n",
    "        loss_func = EpsilonIntensitiveLoss(model.C, model.weights, epsilon=0.1)\n",
    "        \n",
    "        start_time = time.time()\n",
    "        optimiser_results = optimiser.optimise(model, loss_func, X_train, y_train, max_iters=MAX_ITERS) \n",
    "        run_time = time.time() - start_time\n",
    "\n",
    "        model.set_params(optimiser_results['parameters'])\n",
    "        y_pred = model.predict(X_test)\n",
    "\n",
    "        test_mse = mean_squared_error(y_test, y_pred)\n",
    "        test_mae = mean_absolute_error(y_test, y_pred)\n",
    "            \n",
    "        train_losses_for_avg.append(optimiser_results['best_loss'])\n",
    "        test_mse_for_avg.append(test_mse)\n",
    "        test_mae_for_avg.append(test_mae)\n",
    "        r2_score_for_avg.append(r2_score(y_test, y_pred))\n",
    "        run_times_for_avg.append(run_time)\n",
    "        loss_per_iterations.append(optimiser_results['loss_history'])\n",
    "    \n",
    "    train_losses_array = np.array(train_losses_for_avg)\n",
    "    test_mse_array = np.array(test_mse_for_avg)\n",
    "    test_mae_array = np.array(test_mae_for_avg)\n",
    "    r2_score_array = np.array(r2_score_for_avg)\n",
    "    run_times_array = np.array(run_times_for_avg)\n",
    "    loss_per_iterations_array = np.array(loss_per_iterations)\n",
    "\n",
    "    avg_train_loss = np.mean(train_losses_array)\n",
    "    std_dev_train_loss = np.std(train_losses_array)\n",
    "    avg_test_mse = np.mean(test_mse_array)\n",
    "    std_dev_test_mse = np.std(test_mse_array)\n",
    "    avg_test_mae = np.mean(test_mae_array)\n",
    "    std_dev_test_mae = np.std(test_mae_array)\n",
    "    avg_r2_score = np.mean(r2_score_array)\n",
    "    std_dev_r2_score = np.std(r2_score_array)\n",
    "    avg_time = np.mean(run_times_array)\n",
    "    std_dev_time = np.std(run_times_array)\n",
    "    avg_loss_per_iter = np.mean(loss_per_iterations_array, axis=0)\n",
    "    \n",
    "    if loss_name == 'Epsilon Intensive Loss':\n",
    "        PLOTTING_CURVES_EpIL[optimiser_name] = avg_loss_per_iter\n",
    "        print(f\"-> Stored average {loss_name} curve for {optimiser_name}.\")\n",
    "\n",
    "    final_aggregated_results.append({\n",
    "        'Optimiser': optimiser_name,\n",
    "        'Loss_Function': loss_name,\n",
    "        'Avg_Train_Loss': avg_train_loss,\n",
    "        'Std_Dev_Train_Loss': std_dev_train_loss,\n",
    "        'Avg_Test_MSE': avg_test_mse,\n",
    "        'Std_Dev_Test_MSE': std_dev_test_mse,\n",
    "        'Avg_Test_MAE': avg_test_mae,\n",
    "        'Std_Dev_Test_MAE': std_dev_test_mae,\n",
    "        'Avg_R2_Score': avg_r2_score,\n",
    "        'Std_Dev_R2_Score': std_dev_r2_score,\n",
    "        'Avg_Time_s': avg_time,\n",
    "        'Std_Dev_Time_s': std_dev_time\n",
    "    })"
   ]
  },
  {
   "cell_type": "code",
   "execution_count": 7,
   "id": "f2d58c5b-c616-42eb-844c-7191cb0a2541",
   "metadata": {},
   "outputs": [
    {
     "name": "stdout",
     "output_type": "stream",
     "text": [
      "Successfully saved results to: tables\\SVR_California_results.csv\n"
     ]
    }
   ],
   "source": [
    "results_df = pd.DataFrame(final_aggregated_results)\n",
    "\n",
    "output_folder = \"tables\"\n",
    "file_name = \"SVR_California_results.csv\"\n",
    "output_path = os.path.join(output_folder, file_name)\n",
    "\n",
    "results_df.to_csv(output_path, index=False)\n",
    "print(f\"Successfully saved results to: {output_path}\")"
   ]
  },
  {
   "cell_type": "code",
   "execution_count": 8,
   "id": "7ae4e704-f5e3-4575-b0d6-25c1d546bb91",
   "metadata": {},
   "outputs": [
    {
     "data": {
      "text/html": [
       "<div>\n",
       "<style scoped>\n",
       "    .dataframe tbody tr th:only-of-type {\n",
       "        vertical-align: middle;\n",
       "    }\n",
       "\n",
       "    .dataframe tbody tr th {\n",
       "        vertical-align: top;\n",
       "    }\n",
       "\n",
       "    .dataframe thead th {\n",
       "        text-align: right;\n",
       "    }\n",
       "</style>\n",
       "<table border=\"1\" class=\"dataframe\">\n",
       "  <thead>\n",
       "    <tr style=\"text-align: right;\">\n",
       "      <th></th>\n",
       "      <th>Optimiser</th>\n",
       "      <th>Loss_Function</th>\n",
       "      <th>Avg_Train_Loss</th>\n",
       "      <th>Std_Dev_Train_Loss</th>\n",
       "      <th>Avg_Test_MSE</th>\n",
       "      <th>Std_Dev_Test_MSE</th>\n",
       "      <th>Avg_Test_MAE</th>\n",
       "      <th>Std_Dev_Test_MAE</th>\n",
       "      <th>Avg_R2_Score</th>\n",
       "      <th>Std_Dev_R2_Score</th>\n",
       "      <th>Avg_Time_s</th>\n",
       "      <th>Std_Dev_Time_s</th>\n",
       "    </tr>\n",
       "  </thead>\n",
       "  <tbody>\n",
       "    <tr>\n",
       "      <th>0</th>\n",
       "      <td>Batch Gradient Descent</td>\n",
       "      <td>Epsilon Intensive Loss</td>\n",
       "      <td>19387.289604</td>\n",
       "      <td>1830.757800</td>\n",
       "      <td>2.757636</td>\n",
       "      <td>0.296865</td>\n",
       "      <td>1.449420</td>\n",
       "      <td>0.113149</td>\n",
       "      <td>-1.104409</td>\n",
       "      <td>0.226544</td>\n",
       "      <td>0.111628</td>\n",
       "      <td>0.002638</td>\n",
       "    </tr>\n",
       "    <tr>\n",
       "      <th>1</th>\n",
       "      <td>Stochastic Gradient Descent</td>\n",
       "      <td>Epsilon Intensive Loss</td>\n",
       "      <td>0.419141</td>\n",
       "      <td>0.000030</td>\n",
       "      <td>0.580628</td>\n",
       "      <td>0.001535</td>\n",
       "      <td>0.511980</td>\n",
       "      <td>0.000087</td>\n",
       "      <td>0.556911</td>\n",
       "      <td>0.001171</td>\n",
       "      <td>504.220168</td>\n",
       "      <td>133.923536</td>\n",
       "    </tr>\n",
       "    <tr>\n",
       "      <th>2</th>\n",
       "      <td>Mini Batch Gradient Descent</td>\n",
       "      <td>Epsilon Intensive Loss</td>\n",
       "      <td>13.411934</td>\n",
       "      <td>0.001165</td>\n",
       "      <td>0.580481</td>\n",
       "      <td>0.002624</td>\n",
       "      <td>0.511976</td>\n",
       "      <td>0.000136</td>\n",
       "      <td>0.557023</td>\n",
       "      <td>0.002003</td>\n",
       "      <td>12.027379</td>\n",
       "      <td>5.577093</td>\n",
       "    </tr>\n",
       "    <tr>\n",
       "      <th>3</th>\n",
       "      <td>Cellular Automata Optimiser</td>\n",
       "      <td>Epsilon Intensive Loss</td>\n",
       "      <td>6920.552212</td>\n",
       "      <td>2.618821</td>\n",
       "      <td>0.579312</td>\n",
       "      <td>0.003480</td>\n",
       "      <td>0.511952</td>\n",
       "      <td>0.000412</td>\n",
       "      <td>0.557915</td>\n",
       "      <td>0.002656</td>\n",
       "      <td>30.647089</td>\n",
       "      <td>7.946868</td>\n",
       "    </tr>\n",
       "  </tbody>\n",
       "</table>\n",
       "</div>"
      ],
      "text/plain": [
       "                     Optimiser           Loss_Function  Avg_Train_Loss  \\\n",
       "0       Batch Gradient Descent  Epsilon Intensive Loss    19387.289604   \n",
       "1  Stochastic Gradient Descent  Epsilon Intensive Loss        0.419141   \n",
       "2  Mini Batch Gradient Descent  Epsilon Intensive Loss       13.411934   \n",
       "3  Cellular Automata Optimiser  Epsilon Intensive Loss     6920.552212   \n",
       "\n",
       "   Std_Dev_Train_Loss  Avg_Test_MSE  Std_Dev_Test_MSE  Avg_Test_MAE  \\\n",
       "0         1830.757800      2.757636          0.296865      1.449420   \n",
       "1            0.000030      0.580628          0.001535      0.511980   \n",
       "2            0.001165      0.580481          0.002624      0.511976   \n",
       "3            2.618821      0.579312          0.003480      0.511952   \n",
       "\n",
       "   Std_Dev_Test_MAE  Avg_R2_Score  Std_Dev_R2_Score  Avg_Time_s  \\\n",
       "0          0.113149     -1.104409          0.226544    0.111628   \n",
       "1          0.000087      0.556911          0.001171  504.220168   \n",
       "2          0.000136      0.557023          0.002003   12.027379   \n",
       "3          0.000412      0.557915          0.002656   30.647089   \n",
       "\n",
       "   Std_Dev_Time_s  \n",
       "0        0.002638  \n",
       "1      133.923536  \n",
       "2        5.577093  \n",
       "3        7.946868  "
      ]
     },
     "execution_count": 8,
     "metadata": {},
     "output_type": "execute_result"
    }
   ],
   "source": [
    "results_df"
   ]
  },
  {
   "cell_type": "code",
   "execution_count": 9,
   "id": "e2bc6cfb-a0f2-49b7-b581-a12b819d5544",
   "metadata": {},
   "outputs": [
    {
     "data": {
      "image/png": "[encoded data removed]",
      "text/plain": [
       "<Figure size 1200x400 with 1 Axes>"
      ]
     },
     "metadata": {},
     "output_type": "display_data"
    }
   ],
   "source": [
    "iterations = np.arange(1, MAX_ITERS + 1)\n",
    "fig, ax = plt.subplots(1, 1, figsize=(12, 4)) \n",
    "\n",
    "for optimiser_name, avg_curve in PLOTTING_CURVES_EpIL.items():\n",
    "    ax.plot(iterations, avg_curve, label=optimiser_name, linewidth=2) \n",
    "\n",
    "ax.set_title('Epsilon Intensive Loss', fontsize=14)\n",
    "ax.set_xlabel('Iterations (Epochs)', fontsize=12)\n",
    "ax.set_ylabel('Average Loss Over 10 Runs', fontsize=12)\n",
    "ax.grid(True, linestyle='--', alpha=0.6)\n",
    "ax.legend()\n",
    "\n",
    "fig.suptitle('Optimisers Convergence on Support Vector Regression (California Housing Dataset)', fontsize=14, y=0.95) \n",
    "plt.tight_layout(rect=[0, 0, 1, 0.95])\n",
    "plt.savefig('Support Vector Regression Loss Plot (California Dataset).png')"
   ]
  }
 ],
 "metadata": {
  "kernelspec": {
   "display_name": "Python 3 (ipykernel)",
   "language": "python",
   "name": "python3"
  },
  "language_info": {
   "codemirror_mode": {
    "name": "ipython",
    "version": 3
   },
   "file_extension": ".py",
   "mimetype": "text/x-python",
   "name": "python",
   "nbconvert_exporter": "python",
   "pygments_lexer": "ipython3",
   "version": "3.13.3"
  }
 },
 "nbformat": 4,
 "nbformat_minor": 5
}
